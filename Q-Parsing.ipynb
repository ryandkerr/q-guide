{
 "cells": [
  {
   "cell_type": "code",
   "execution_count": 79,
   "metadata": {
    "collapsed": true
   },
   "outputs": [],
   "source": [
    "from bs4 import BeautifulSoup\n",
    "import numpy as np\n",
    "import csv\n",
    "import pdb\n",
    "import os"
   ]
  },
  {
   "cell_type": "code",
   "execution_count": 84,
   "metadata": {
    "collapsed": false
   },
   "outputs": [],
   "source": [
    "review1 = \"\"\n",
    "with open(\"2015_spring_pages/class0main.txt\") as f:\n",
    "    review1 = BeautifulSoup(f.read(), \"lxml\")\n",
    "\n",
    "review990 = \"\"\n",
    "with open(\"2015_spring_pages/class990main.txt\") as f:\n",
    "    review990 = BeautifulSoup(f.read(), \"lxml\")"
   ]
  },
  {
   "cell_type": "markdown",
   "metadata": {},
   "source": [
    "Class name"
   ]
  },
  {
   "cell_type": "code",
   "execution_count": 49,
   "metadata": {
    "collapsed": false
   },
   "outputs": [
    {
     "data": {
      "text/plain": [
       "'AFRAMER 10: Introduction to African American Studies'"
      ]
     },
     "execution_count": 49,
     "metadata": {},
     "output_type": "execute_result"
    }
   ],
   "source": [
    "review1.find(\"h1\").text.encode(\"ascii\")"
   ]
  },
  {
   "cell_type": "markdown",
   "metadata": {},
   "source": [
    "Summary Statistics"
   ]
  },
  {
   "cell_type": "code",
   "execution_count": 76,
   "metadata": {
    "collapsed": false
   },
   "outputs": [
    {
     "name": "stdout",
     "output_type": "stream",
     "text": [
      "Enrollment: 152\n",
      "Reviews:    128\n"
     ]
    }
   ],
   "source": [
    "t = review1.find(\"div\", attrs={\"id\": \"summaryStats\"}).text.split(\"\\n\")\n",
    "t = map(lambda x: x.strip(\" \"), t)\n",
    "print \"Enrollment:\", t[2]\n",
    "print \"Reviews:   \", t[4]"
   ]
  },
  {
   "cell_type": "markdown",
   "metadata": {},
   "source": [
    "Overall Scores"
   ]
  },
  {
   "cell_type": "code",
   "execution_count": 29,
   "metadata": {
    "collapsed": false
   },
   "outputs": [],
   "source": [
    "overall = review1.find(\"td\", text=\"Course Overall\")"
   ]
  },
  {
   "cell_type": "code",
   "execution_count": 61,
   "metadata": {
    "collapsed": false
   },
   "outputs": [
    {
     "data": {
      "text/plain": [
       "['3', '2', '25', '49', '47']"
      ]
     },
     "execution_count": 61,
     "metadata": {},
     "output_type": "execute_result"
    }
   ],
   "source": [
    "score_dist = overall.next_sibling\n",
    "score_dist.find(\"img\")[\"alt\"].split(\" \")[1:6]"
   ]
  },
  {
   "cell_type": "code",
   "execution_count": 31,
   "metadata": {
    "collapsed": false
   },
   "outputs": [
    {
     "data": {
      "text/plain": [
       "126"
      ]
     },
     "execution_count": 31,
     "metadata": {},
     "output_type": "execute_result"
    }
   ],
   "source": [
    "num_reviews = score_dist.next_sibling\n",
    "int(num_reviews.text)"
   ]
  },
  {
   "cell_type": "code",
   "execution_count": 32,
   "metadata": {
    "collapsed": false
   },
   "outputs": [
    {
     "data": {
      "text/plain": [
       "4.1"
      ]
     },
     "execution_count": 32,
     "metadata": {},
     "output_type": "execute_result"
    }
   ],
   "source": [
    "mean_score = num_reviews.next_sibling\n",
    "float(mean_score.text)"
   ]
  },
  {
   "cell_type": "markdown",
   "metadata": {},
   "source": [
    "Workload"
   ]
  },
  {
   "cell_type": "code",
   "execution_count": 50,
   "metadata": {
    "collapsed": false
   },
   "outputs": [],
   "source": [
    "workload = review1.find(\"td\", text=\"Workload (hours per week)\")"
   ]
  },
  {
   "cell_type": "code",
   "execution_count": 62,
   "metadata": {
    "collapsed": false
   },
   "outputs": [
    {
     "data": {
      "text/plain": [
       "['33', '69', '7', '0', '0']"
      ]
     },
     "execution_count": 62,
     "metadata": {},
     "output_type": "execute_result"
    }
   ],
   "source": [
    "workload_dist = workload.next_sibling\n",
    "workload_dist.find(\"img\")[\"alt\"].split(\" \")[1:6]"
   ]
  },
  {
   "cell_type": "code",
   "execution_count": 43,
   "metadata": {
    "collapsed": false
   },
   "outputs": [
    {
     "data": {
      "text/plain": [
       "109"
      ]
     },
     "execution_count": 43,
     "metadata": {},
     "output_type": "execute_result"
    }
   ],
   "source": [
    "workload_responses = workload_dist.next_sibling\n",
    "int(workload_responses.text)"
   ]
  },
  {
   "cell_type": "code",
   "execution_count": 46,
   "metadata": {
    "collapsed": false
   },
   "outputs": [
    {
     "data": {
      "text/plain": [
       "3.7"
      ]
     },
     "execution_count": 46,
     "metadata": {},
     "output_type": "execute_result"
    }
   ],
   "source": [
    "mean_workload = workload_responses.next_sibling\n",
    "float(mean_workload.text)"
   ]
  },
  {
   "cell_type": "markdown",
   "metadata": {},
   "source": [
    "Recommendation"
   ]
  },
  {
   "cell_type": "code",
   "execution_count": 51,
   "metadata": {
    "collapsed": true
   },
   "outputs": [],
   "source": [
    "recommend = review1.find(\"td\", text=\"Would You Recommend\")"
   ]
  },
  {
   "cell_type": "code",
   "execution_count": 63,
   "metadata": {
    "collapsed": false
   },
   "outputs": [
    {
     "data": {
      "text/plain": [
       "['2', '2', '19', '38', '60']"
      ]
     },
     "execution_count": 63,
     "metadata": {},
     "output_type": "execute_result"
    }
   ],
   "source": [
    "recommend_dist = recommend.next_sibling\n",
    "recommend_dist.find(\"img\")[\"alt\"].split(\" \")[1:6]"
   ]
  },
  {
   "cell_type": "code",
   "execution_count": 56,
   "metadata": {
    "collapsed": false
   },
   "outputs": [
    {
     "data": {
      "text/plain": [
       "121"
      ]
     },
     "execution_count": 56,
     "metadata": {},
     "output_type": "execute_result"
    }
   ],
   "source": [
    "recommend_responses = recommend_dist.next_sibling\n",
    "int(recommend_responses.text)"
   ]
  },
  {
   "cell_type": "code",
   "execution_count": 57,
   "metadata": {
    "collapsed": false
   },
   "outputs": [
    {
     "data": {
      "text/plain": [
       "4.3"
      ]
     },
     "execution_count": 57,
     "metadata": {},
     "output_type": "execute_result"
    }
   ],
   "source": [
    "mean_recommend = recommend_responses.next_sibling\n",
    "float(mean_recommend.text)"
   ]
  },
  {
   "cell_type": "code",
   "execution_count": 78,
   "metadata": {
    "collapsed": false
   },
   "outputs": [
    {
     "name": "stdout",
     "output_type": "stream",
     "text": [
      "2015_spring_pages/class1021main.txt:      There was an unexpected error encountered while processing your request.\n",
      "2015_spring_pages/class1021reviews.txt:      There was an unexpected error encountered while processing your request.\n",
      "2015_spring_pages/class1022main.txt:      There was an unexpected error encountered while processing your request.\n",
      "2015_spring_pages/class1022reviews.txt:      There was an unexpected error encountered while processing your request.\n",
      "2015_spring_pages/class1023main.txt:      There was an unexpected error encountered while processing your request.\n",
      "2015_spring_pages/class1023reviews.txt:      There was an unexpected error encountered while processing your request.\n",
      "2015_spring_pages/class1029main.txt:      There was an unexpected error encountered while processing your request.\n",
      "2015_spring_pages/class1029reviews.txt:      There was an unexpected error encountered while processing your request.\n",
      "2015_spring_pages/class102main.txt:      There was an unexpected error encountered while processing your request.\n",
      "2015_spring_pages/class102reviews.txt:      There was an unexpected error encountered while processing your request.\n",
      "2015_spring_pages/class1030main.txt:      There was an unexpected error encountered while processing your request.\n",
      "2015_spring_pages/class1030reviews.txt:      There was an unexpected error encountered while processing your request.\n",
      "2015_spring_pages/class1031main.txt:      There was an unexpected error encountered while processing your request.\n",
      "2015_spring_pages/class1031reviews.txt:      There was an unexpected error encountered while processing your request.\n",
      "2015_spring_pages/class1032main.txt:      There was an unexpected error encountered while processing your request.\n",
      "2015_spring_pages/class1032reviews.txt:      There was an unexpected error encountered while processing your request.\n",
      "2015_spring_pages/class1035main.txt:      There was an unexpected error encountered while processing your request.\n",
      "2015_spring_pages/class1035reviews.txt:      There was an unexpected error encountered while processing your request.\n",
      "2015_spring_pages/class1036main.txt:      There was an unexpected error encountered while processing your request.\n",
      "2015_spring_pages/class1036reviews.txt:      There was an unexpected error encountered while processing your request.\n",
      "2015_spring_pages/class1037main.txt:      There was an unexpected error encountered while processing your request.\n",
      "2015_spring_pages/class1037reviews.txt:      There was an unexpected error encountered while processing your request.\n",
      "2015_spring_pages/class1038main.txt:      There was an unexpected error encountered while processing your request.\n",
      "2015_spring_pages/class1038reviews.txt:      There was an unexpected error encountered while processing your request.\n",
      "2015_spring_pages/class1040main.txt:      There was an unexpected error encountered while processing your request.\n",
      "2015_spring_pages/class1040reviews.txt:      There was an unexpected error encountered while processing your request.\n",
      "2015_spring_pages/class1041main.txt:      There was an unexpected error encountered while processing your request.\n",
      "2015_spring_pages/class1041reviews.txt:      There was an unexpected error encountered while processing your request.\n",
      "2015_spring_pages/class1054main.txt:      There was an unexpected error encountered while processing your request.\n",
      "2015_spring_pages/class1054reviews.txt:      There was an unexpected error encountered while processing your request.\n",
      "2015_spring_pages/class1055main.txt:      There was an unexpected error encountered while processing your request.\n",
      "2015_spring_pages/class1055reviews.txt:      There was an unexpected error encountered while processing your request.\n",
      "2015_spring_pages/class1056main.txt:      There was an unexpected error encountered while processing your request.\n",
      "2015_spring_pages/class1056reviews.txt:      There was an unexpected error encountered while processing your request.\n",
      "2015_spring_pages/class1057main.txt:      There was an unexpected error encountered while processing your request.\n",
      "2015_spring_pages/class1057reviews.txt:      There was an unexpected error encountered while processing your request.\n",
      "2015_spring_pages/class1058main.txt:      There was an unexpected error encountered while processing your request.\n",
      "2015_spring_pages/class1058reviews.txt:      There was an unexpected error encountered while processing your request.\n",
      "2015_spring_pages/class1060main.txt:      There was an unexpected error encountered while processing your request.\n",
      "2015_spring_pages/class1060reviews.txt:      There was an unexpected error encountered while processing your request.\n",
      "2015_spring_pages/class1062main.txt:      There was an unexpected error encountered while processing your request.\n",
      "2015_spring_pages/class1062reviews.txt:      There was an unexpected error encountered while processing your request.\n",
      "2015_spring_pages/class1063main.txt:      There was an unexpected error encountered while processing your request.\n",
      "2015_spring_pages/class1063reviews.txt:      There was an unexpected error encountered while processing your request.\n",
      "2015_spring_pages/class1064main.txt:      There was an unexpected error encountered while processing your request.\n",
      "2015_spring_pages/class1064reviews.txt:      There was an unexpected error encountered while processing your request.\n",
      "2015_spring_pages/class1065main.txt:      There was an unexpected error encountered while processing your request.\n",
      "2015_spring_pages/class1065reviews.txt:      There was an unexpected error encountered while processing your request.\n",
      "2015_spring_pages/class1068main.txt:      There was an unexpected error encountered while processing your request.\n",
      "2015_spring_pages/class1068reviews.txt:      There was an unexpected error encountered while processing your request.\n",
      "2015_spring_pages/class1069main.txt:      There was an unexpected error encountered while processing your request.\n",
      "2015_spring_pages/class1069reviews.txt:      There was an unexpected error encountered while processing your request.\n",
      "2015_spring_pages/class1070main.txt:      There was an unexpected error encountered while processing your request.\n",
      "2015_spring_pages/class1070reviews.txt:      There was an unexpected error encountered while processing your request.\n",
      "2015_spring_pages/class1073main.txt:      There was an unexpected error encountered while processing your request.\n",
      "2015_spring_pages/class1073reviews.txt:      There was an unexpected error encountered while processing your request.\n",
      "2015_spring_pages/class1080main.txt:      There was an unexpected error encountered while processing your request.\n",
      "2015_spring_pages/class1080reviews.txt:      There was an unexpected error encountered while processing your request.\n",
      "2015_spring_pages/class1097main.txt:      There was an unexpected error encountered while processing your request.\n",
      "2015_spring_pages/class1097reviews.txt:      There was an unexpected error encountered while processing your request.\n",
      "2015_spring_pages/class1137main.txt:      There was an unexpected error encountered while processing your request.\n",
      "2015_spring_pages/class1137reviews.txt:      There was an unexpected error encountered while processing your request.\n",
      "2015_spring_pages/class1146main.txt:      There was an unexpected error encountered while processing your request.\n",
      "2015_spring_pages/class1146reviews.txt:      There was an unexpected error encountered while processing your request.\n",
      "2015_spring_pages/class1148main.txt:      There was an unexpected error encountered while processing your request.\n",
      "2015_spring_pages/class1148reviews.txt:      There was an unexpected error encountered while processing your request.\n",
      "2015_spring_pages/class114main.txt:      There was an unexpected error encountered while processing your request.\n",
      "2015_spring_pages/class114reviews.txt:      There was an unexpected error encountered while processing your request.\n",
      "2015_spring_pages/class1154main.txt:      There was an unexpected error encountered while processing your request.\n",
      "2015_spring_pages/class1154reviews.txt:      There was an unexpected error encountered while processing your request.\n",
      "2015_spring_pages/class1174main.txt:      There was an unexpected error encountered while processing your request.\n",
      "2015_spring_pages/class1174reviews.txt:      There was an unexpected error encountered while processing your request.\n",
      "2015_spring_pages/class1178main.txt:      There was an unexpected error encountered while processing your request.\n",
      "2015_spring_pages/class1178reviews.txt:      There was an unexpected error encountered while processing your request.\n",
      "2015_spring_pages/class1226main.txt:      There was an unexpected error encountered while processing your request.\n",
      "2015_spring_pages/class1226reviews.txt:      There was an unexpected error encountered while processing your request.\n",
      "2015_spring_pages/class1242main.txt:      There was an unexpected error encountered while processing your request.\n",
      "2015_spring_pages/class1242reviews.txt:      There was an unexpected error encountered while processing your request.\n",
      "2015_spring_pages/class1243main.txt:      There was an unexpected error encountered while processing your request.\n",
      "2015_spring_pages/class1243reviews.txt:      There was an unexpected error encountered while processing your request.\n",
      "2015_spring_pages/class1246main.txt:      There was an unexpected error encountered while processing your request.\n",
      "2015_spring_pages/class1246reviews.txt:      There was an unexpected error encountered while processing your request.\n",
      "2015_spring_pages/class1258main.txt:      There was an unexpected error encountered while processing your request.\n",
      "2015_spring_pages/class1258reviews.txt:      There was an unexpected error encountered while processing your request.\n",
      "2015_spring_pages/class150main.txt:      There was an unexpected error encountered while processing your request.\n",
      "2015_spring_pages/class150reviews.txt:      There was an unexpected error encountered while processing your request.\n",
      "2015_spring_pages/class15main.txt:      There was an unexpected error encountered while processing your request.\n",
      "2015_spring_pages/class15reviews.txt:      There was an unexpected error encountered while processing your request.\n",
      "2015_spring_pages/class16main.txt:      There was an unexpected error encountered while processing your request.\n",
      "2015_spring_pages/class16reviews.txt:      There was an unexpected error encountered while processing your request.\n",
      "2015_spring_pages/class17main.txt:      There was an unexpected error encountered while processing your request.\n",
      "2015_spring_pages/class17reviews.txt:      There was an unexpected error encountered while processing your request.\n",
      "2015_spring_pages/class188main.txt:      There was an unexpected error encountered while processing your request.\n",
      "2015_spring_pages/class188reviews.txt:      There was an unexpected error encountered while processing your request.\n",
      "2015_spring_pages/class18main.txt:      There was an unexpected error encountered while processing your request.\n",
      "2015_spring_pages/class18reviews.txt:      There was an unexpected error encountered while processing your request.\n",
      "2015_spring_pages/class193main.txt:      There was an unexpected error encountered while processing your request.\n",
      "2015_spring_pages/class193reviews.txt:      There was an unexpected error encountered while processing your request.\n",
      "2015_spring_pages/class19main.txt:      There was an unexpected error encountered while processing your request.\n",
      "2015_spring_pages/class19reviews.txt:      There was an unexpected error encountered while processing your request.\n",
      "2015_spring_pages/class20main.txt:      There was an unexpected error encountered while processing your request.\n",
      "2015_spring_pages/class20reviews.txt:      There was an unexpected error encountered while processing your request.\n",
      "2015_spring_pages/class21main.txt:      There was an unexpected error encountered while processing your request.\n",
      "2015_spring_pages/class21reviews.txt:      There was an unexpected error encountered while processing your request.\n",
      "2015_spring_pages/class22main.txt:      There was an unexpected error encountered while processing your request.\n",
      "2015_spring_pages/class22reviews.txt:      There was an unexpected error encountered while processing your request.\n",
      "2015_spring_pages/class23main.txt:      There was an unexpected error encountered while processing your request.\n",
      "2015_spring_pages/class23reviews.txt:      There was an unexpected error encountered while processing your request.\n",
      "2015_spring_pages/class242main.txt:      There was an unexpected error encountered while processing your request.\n",
      "2015_spring_pages/class242reviews.txt:      There was an unexpected error encountered while processing your request.\n",
      "2015_spring_pages/class243main.txt:      There was an unexpected error encountered while processing your request.\n",
      "2015_spring_pages/class243reviews.txt:      There was an unexpected error encountered while processing your request.\n",
      "2015_spring_pages/class24main.txt:      There was an unexpected error encountered while processing your request.\n",
      "2015_spring_pages/class24reviews.txt:      There was an unexpected error encountered while processing your request.\n",
      "2015_spring_pages/class25main.txt:      There was an unexpected error encountered while processing your request.\n",
      "2015_spring_pages/class25reviews.txt:      There was an unexpected error encountered while processing your request.\n",
      "2015_spring_pages/class260main.txt:      There was an unexpected error encountered while processing your request.\n",
      "2015_spring_pages/class260reviews.txt:      There was an unexpected error encountered while processing your request.\n",
      "2015_spring_pages/class26main.txt:      There was an unexpected error encountered while processing your request.\n",
      "2015_spring_pages/class26reviews.txt:      There was an unexpected error encountered while processing your request.\n",
      "2015_spring_pages/class27main.txt:      There was an unexpected error encountered while processing your request.\n",
      "2015_spring_pages/class27reviews.txt:      There was an unexpected error encountered while processing your request.\n",
      "2015_spring_pages/class28main.txt:      There was an unexpected error encountered while processing your request.\n",
      "2015_spring_pages/class28reviews.txt:      There was an unexpected error encountered while processing your request.\n",
      "2015_spring_pages/class290main.txt:      There was an unexpected error encountered while processing your request.\n",
      "2015_spring_pages/class290reviews.txt:      There was an unexpected error encountered while processing your request.\n",
      "2015_spring_pages/class29main.txt:      There was an unexpected error encountered while processing your request.\n",
      "2015_spring_pages/class29reviews.txt:      There was an unexpected error encountered while processing your request.\n",
      "2015_spring_pages/class305main.txt:      There was an unexpected error encountered while processing your request.\n",
      "2015_spring_pages/class305reviews.txt:      There was an unexpected error encountered while processing your request.\n",
      "2015_spring_pages/class30main.txt:      There was an unexpected error encountered while processing your request.\n",
      "2015_spring_pages/class30reviews.txt:      There was an unexpected error encountered while processing your request.\n",
      "2015_spring_pages/class31main.txt:      There was an unexpected error encountered while processing your request.\n",
      "2015_spring_pages/class31reviews.txt:      There was an unexpected error encountered while processing your request.\n",
      "2015_spring_pages/class323main.txt:      There was an unexpected error encountered while processing your request.\n",
      "2015_spring_pages/class323reviews.txt:      There was an unexpected error encountered while processing your request.\n",
      "2015_spring_pages/class324main.txt:      There was an unexpected error encountered while processing your request.\n",
      "2015_spring_pages/class324reviews.txt:      There was an unexpected error encountered while processing your request.\n",
      "2015_spring_pages/class326main.txt:      There was an unexpected error encountered while processing your request.\n",
      "2015_spring_pages/class326reviews.txt:      There was an unexpected error encountered while processing your request.\n",
      "2015_spring_pages/class327main.txt:      There was an unexpected error encountered while processing your request.\n",
      "2015_spring_pages/class327reviews.txt:      There was an unexpected error encountered while processing your request.\n",
      "2015_spring_pages/class32main.txt:      There was an unexpected error encountered while processing your request.\n",
      "2015_spring_pages/class32reviews.txt:      There was an unexpected error encountered while processing your request.\n",
      "2015_spring_pages/class355main.txt:      There was an unexpected error encountered while processing your request.\n",
      "2015_spring_pages/class355reviews.txt:      There was an unexpected error encountered while processing your request.\n",
      "2015_spring_pages/class356main.txt:      There was an unexpected error encountered while processing your request.\n",
      "2015_spring_pages/class356reviews.txt:      There was an unexpected error encountered while processing your request.\n",
      "2015_spring_pages/class358main.txt:      There was an unexpected error encountered while processing your request.\n",
      "2015_spring_pages/class358reviews.txt:      There was an unexpected error encountered while processing your request.\n",
      "2015_spring_pages/class360main.txt:      There was an unexpected error encountered while processing your request.\n",
      "2015_spring_pages/class360reviews.txt:      There was an unexpected error encountered while processing your request.\n",
      "2015_spring_pages/class361main.txt:      There was an unexpected error encountered while processing your request.\n",
      "2015_spring_pages/class361reviews.txt:      There was an unexpected error encountered while processing your request.\n",
      "2015_spring_pages/class362main.txt:      There was an unexpected error encountered while processing your request.\n",
      "2015_spring_pages/class362reviews.txt:      There was an unexpected error encountered while processing your request.\n",
      "2015_spring_pages/class363main.txt:      There was an unexpected error encountered while processing your request.\n",
      "2015_spring_pages/class363reviews.txt:      There was an unexpected error encountered while processing your request.\n",
      "2015_spring_pages/class364main.txt:      There was an unexpected error encountered while processing your request.\n",
      "2015_spring_pages/class364reviews.txt:      There was an unexpected error encountered while processing your request.\n",
      "2015_spring_pages/class366main.txt:      There was an unexpected error encountered while processing your request.\n",
      "2015_spring_pages/class366reviews.txt:      There was an unexpected error encountered while processing your request.\n",
      "2015_spring_pages/class369main.txt:      There was an unexpected error encountered while processing your request.\n",
      "2015_spring_pages/class369reviews.txt:      There was an unexpected error encountered while processing your request.\n",
      "2015_spring_pages/class370main.txt:      There was an unexpected error encountered while processing your request.\n",
      "2015_spring_pages/class370reviews.txt:      There was an unexpected error encountered while processing your request.\n",
      "2015_spring_pages/class40main.txt:      There was an unexpected error encountered while processing your request.\n",
      "2015_spring_pages/class40reviews.txt:      There was an unexpected error encountered while processing your request.\n",
      "2015_spring_pages/class439main.txt:      There was an unexpected error encountered while processing your request.\n",
      "2015_spring_pages/class439reviews.txt:      There was an unexpected error encountered while processing your request.\n",
      "2015_spring_pages/class48main.txt:      There was an unexpected error encountered while processing your request.\n",
      "2015_spring_pages/class48reviews.txt:      There was an unexpected error encountered while processing your request.\n",
      "2015_spring_pages/class504main.txt:      There was an unexpected error encountered while processing your request.\n",
      "2015_spring_pages/class504reviews.txt:      There was an unexpected error encountered while processing your request.\n",
      "2015_spring_pages/class521main.txt:      There was an unexpected error encountered while processing your request.\n",
      "2015_spring_pages/class521reviews.txt:      There was an unexpected error encountered while processing your request.\n",
      "2015_spring_pages/class530main.txt:      There was an unexpected error encountered while processing your request.\n",
      "2015_spring_pages/class530reviews.txt:      There was an unexpected error encountered while processing your request.\n",
      "2015_spring_pages/class532main.txt:      There was an unexpected error encountered while processing your request.\n",
      "2015_spring_pages/class532reviews.txt:      There was an unexpected error encountered while processing your request.\n",
      "2015_spring_pages/class569main.txt:      There was an unexpected error encountered while processing your request.\n",
      "2015_spring_pages/class569reviews.txt:      There was an unexpected error encountered while processing your request.\n",
      "2015_spring_pages/class570main.txt:      There was an unexpected error encountered while processing your request.\n",
      "2015_spring_pages/class570reviews.txt:      There was an unexpected error encountered while processing your request.\n",
      "2015_spring_pages/class666main.txt:      There was an unexpected error encountered while processing your request.\n",
      "2015_spring_pages/class666reviews.txt:      There was an unexpected error encountered while processing your request.\n",
      "2015_spring_pages/class687main.txt:      There was an unexpected error encountered while processing your request.\n",
      "2015_spring_pages/class687reviews.txt:      There was an unexpected error encountered while processing your request.\n",
      "2015_spring_pages/class709main.txt:      There was an unexpected error encountered while processing your request.\n",
      "2015_spring_pages/class709reviews.txt:      There was an unexpected error encountered while processing your request.\n",
      "2015_spring_pages/class70main.txt:      There was an unexpected error encountered while processing your request.\n",
      "2015_spring_pages/class70reviews.txt:      There was an unexpected error encountered while processing your request.\n",
      "2015_spring_pages/class722main.txt:      There was an unexpected error encountered while processing your request.\n",
      "2015_spring_pages/class722reviews.txt:      There was an unexpected error encountered while processing your request.\n",
      "2015_spring_pages/class735main.txt:      There was an unexpected error encountered while processing your request.\n",
      "2015_spring_pages/class735reviews.txt:      There was an unexpected error encountered while processing your request.\n",
      "2015_spring_pages/class737main.txt:      There was an unexpected error encountered while processing your request.\n",
      "2015_spring_pages/class737reviews.txt:      There was an unexpected error encountered while processing your request.\n",
      "2015_spring_pages/class738main.txt:      There was an unexpected error encountered while processing your request.\n",
      "2015_spring_pages/class738reviews.txt:      There was an unexpected error encountered while processing your request.\n",
      "2015_spring_pages/class740main.txt:      There was an unexpected error encountered while processing your request.\n",
      "2015_spring_pages/class740reviews.txt:      There was an unexpected error encountered while processing your request.\n",
      "2015_spring_pages/class741main.txt:      There was an unexpected error encountered while processing your request.\n",
      "2015_spring_pages/class741reviews.txt:      There was an unexpected error encountered while processing your request.\n",
      "2015_spring_pages/class756main.txt:      There was an unexpected error encountered while processing your request.\n",
      "2015_spring_pages/class756reviews.txt:      There was an unexpected error encountered while processing your request.\n",
      "2015_spring_pages/class764main.txt:      There was an unexpected error encountered while processing your request.\n",
      "2015_spring_pages/class764reviews.txt:      There was an unexpected error encountered while processing your request.\n",
      "2015_spring_pages/class775main.txt:      There was an unexpected error encountered while processing your request.\n",
      "2015_spring_pages/class775reviews.txt:      There was an unexpected error encountered while processing your request.\n",
      "2015_spring_pages/class778main.txt:      There was an unexpected error encountered while processing your request.\n",
      "2015_spring_pages/class778reviews.txt:      There was an unexpected error encountered while processing your request.\n",
      "2015_spring_pages/class793main.txt:      There was an unexpected error encountered while processing your request.\n",
      "2015_spring_pages/class793reviews.txt:      There was an unexpected error encountered while processing your request.\n",
      "2015_spring_pages/class81main.txt:      There was an unexpected error encountered while processing your request.\n",
      "2015_spring_pages/class81reviews.txt:      There was an unexpected error encountered while processing your request.\n",
      "2015_spring_pages/class835main.txt:      There was an unexpected error encountered while processing your request.\n",
      "2015_spring_pages/class835reviews.txt:      There was an unexpected error encountered while processing your request.\n",
      "2015_spring_pages/class839main.txt:      There was an unexpected error encountered while processing your request.\n",
      "2015_spring_pages/class839reviews.txt:      There was an unexpected error encountered while processing your request.\n",
      "2015_spring_pages/class84main.txt:      There was an unexpected error encountered while processing your request.\n",
      "2015_spring_pages/class84reviews.txt:      There was an unexpected error encountered while processing your request.\n",
      "2015_spring_pages/class851main.txt:      There was an unexpected error encountered while processing your request.\n",
      "2015_spring_pages/class851reviews.txt:      There was an unexpected error encountered while processing your request.\n",
      "2015_spring_pages/class885main.txt:      There was an unexpected error encountered while processing your request.\n",
      "2015_spring_pages/class885reviews.txt:      There was an unexpected error encountered while processing your request.\n",
      "2015_spring_pages/class886main.txt:      There was an unexpected error encountered while processing your request.\n",
      "2015_spring_pages/class886reviews.txt:      There was an unexpected error encountered while processing your request.\n",
      "2015_spring_pages/class899main.txt:      There was an unexpected error encountered while processing your request.\n",
      "2015_spring_pages/class899reviews.txt:      There was an unexpected error encountered while processing your request.\n",
      "2015_spring_pages/class920main.txt:      There was an unexpected error encountered while processing your request.\n",
      "2015_spring_pages/class920reviews.txt:      There was an unexpected error encountered while processing your request.\n",
      "2015_spring_pages/class923main.txt:      There was an unexpected error encountered while processing your request.\n",
      "2015_spring_pages/class923reviews.txt:      There was an unexpected error encountered while processing your request.\n",
      "2015_spring_pages/class924main.txt:      There was an unexpected error encountered while processing your request.\n",
      "2015_spring_pages/class924reviews.txt:      There was an unexpected error encountered while processing your request.\n",
      "2015_spring_pages/class927main.txt:      There was an unexpected error encountered while processing your request.\n",
      "2015_spring_pages/class927reviews.txt:      There was an unexpected error encountered while processing your request.\n",
      "2015_spring_pages/class931main.txt:      There was an unexpected error encountered while processing your request.\n",
      "2015_spring_pages/class931reviews.txt:      There was an unexpected error encountered while processing your request.\n",
      "2015_spring_pages/class933main.txt:      There was an unexpected error encountered while processing your request.\n",
      "2015_spring_pages/class933reviews.txt:      There was an unexpected error encountered while processing your request.\n",
      "2015_spring_pages/class934main.txt:      There was an unexpected error encountered while processing your request.\n",
      "2015_spring_pages/class934reviews.txt:      There was an unexpected error encountered while processing your request.\n",
      "2015_spring_pages/class935main.txt:      There was an unexpected error encountered while processing your request.\n",
      "2015_spring_pages/class935reviews.txt:      There was an unexpected error encountered while processing your request.\n",
      "2015_spring_pages/class938main.txt:      There was an unexpected error encountered while processing your request.\n",
      "2015_spring_pages/class938reviews.txt:      There was an unexpected error encountered while processing your request.\n",
      "2015_spring_pages/class941main.txt:      There was an unexpected error encountered while processing your request.\n",
      "2015_spring_pages/class941reviews.txt:      There was an unexpected error encountered while processing your request.\n",
      "2015_spring_pages/class943main.txt:      There was an unexpected error encountered while processing your request.\n",
      "2015_spring_pages/class943reviews.txt:      There was an unexpected error encountered while processing your request.\n",
      "2015_spring_pages/class964main.txt:      There was an unexpected error encountered while processing your request.\n",
      "2015_spring_pages/class964reviews.txt:      There was an unexpected error encountered while processing your request.\n",
      "2015_spring_pages/class969main.txt:      There was an unexpected error encountered while processing your request.\n",
      "2015_spring_pages/class969reviews.txt:      There was an unexpected error encountered while processing your request.\n",
      "2015_spring_pages/class970main.txt:      There was an unexpected error encountered while processing your request.\n",
      "2015_spring_pages/class970reviews.txt:      There was an unexpected error encountered while processing your request.\n",
      "2015_spring_pages/class973main.txt:      There was an unexpected error encountered while processing your request.\n",
      "2015_spring_pages/class973reviews.txt:      There was an unexpected error encountered while processing your request.\n",
      "2015_spring_pages/class975main.txt:      There was an unexpected error encountered while processing your request.\n",
      "2015_spring_pages/class975reviews.txt:      There was an unexpected error encountered while processing your request.\n",
      "2015_spring_pages/class976main.txt:      There was an unexpected error encountered while processing your request.\n",
      "2015_spring_pages/class976reviews.txt:      There was an unexpected error encountered while processing your request.\n",
      "2015_spring_pages/class979main.txt:      There was an unexpected error encountered while processing your request.\n",
      "2015_spring_pages/class979reviews.txt:      There was an unexpected error encountered while processing your request.\n",
      "2015_spring_pages/class980main.txt:      There was an unexpected error encountered while processing your request.\n",
      "2015_spring_pages/class980reviews.txt:      There was an unexpected error encountered while processing your request.\n",
      "2015_spring_pages/class981main.txt:      There was an unexpected error encountered while processing your request.\n",
      "2015_spring_pages/class981reviews.txt:      There was an unexpected error encountered while processing your request.\n",
      "2015_spring_pages/class982main.txt:      There was an unexpected error encountered while processing your request.\n",
      "2015_spring_pages/class982reviews.txt:      There was an unexpected error encountered while processing your request.\n",
      "2015_spring_pages/class983main.txt:      There was an unexpected error encountered while processing your request.\n",
      "2015_spring_pages/class983reviews.txt:      There was an unexpected error encountered while processing your request.\n",
      "2015_spring_pages/class984main.txt:      There was an unexpected error encountered while processing your request.\n",
      "2015_spring_pages/class984reviews.txt:      There was an unexpected error encountered while processing your request.\n",
      "2015_spring_pages/class985main.txt:      There was an unexpected error encountered while processing your request.\n",
      "2015_spring_pages/class985reviews.txt:      There was an unexpected error encountered while processing your request.\n",
      "2015_spring_pages/class987main.txt:      There was an unexpected error encountered while processing your request.\n",
      "2015_spring_pages/class987reviews.txt:      There was an unexpected error encountered while processing your request.\n",
      "2015_spring_pages/class988main.txt:      There was an unexpected error encountered while processing your request.\n",
      "2015_spring_pages/class988reviews.txt:      There was an unexpected error encountered while processing your request.\n",
      "2015_spring_pages/class990main.txt:      There was an unexpected error encountered while processing your request.\n",
      "2015_spring_pages/class990reviews.txt:      There was an unexpected error encountered while processing your request.\n",
      "2015_spring_pages/class992main.txt:      There was an unexpected error encountered while processing your request.\n",
      "2015_spring_pages/class992reviews.txt:      There was an unexpected error encountered while processing your request.\n",
      "2015_spring_pages/class993main.txt:      There was an unexpected error encountered while processing your request.\n",
      "2015_spring_pages/class993reviews.txt:      There was an unexpected error encountered while processing your request.\n",
      "2015_spring_pages/error_pages:class1021main.txt:7:      There was an unexpected error encountered while processing your request.\n",
      "2015_spring_pages/error_pages:class1021reviews.txt:7:      There was an unexpected error encountered while processing your request.\n",
      "2015_spring_pages/error_pages:class1022main.txt:7:      There was an unexpected error encountered while processing your request.\n",
      "2015_spring_pages/error_pages:class1022reviews.txt:7:      There was an unexpected error encountered while processing your request.\n",
      "2015_spring_pages/error_pages:class1023main.txt:7:      There was an unexpected error encountered while processing your request.\n",
      "2015_spring_pages/error_pages:class1023reviews.txt:7:      There was an unexpected error encountered while processing your request.\n",
      "2015_spring_pages/error_pages:class1029main.txt:7:      There was an unexpected error encountered while processing your request.\n",
      "2015_spring_pages/error_pages:class1029reviews.txt:7:      There was an unexpected error encountered while processing your request.\n",
      "2015_spring_pages/error_pages:class102main.txt:7:      There was an unexpected error encountered while processing your request.\n",
      "2015_spring_pages/error_pages:class102reviews.txt:7:      There was an unexpected error encountered while processing your request.\n",
      "2015_spring_pages/error_pages:class1030main.txt:7:      There was an unexpected error encountered while processing your request.\n",
      "2015_spring_pages/error_pages:class1030reviews.txt:7:      There was an unexpected error encountered while processing your request.\n",
      "2015_spring_pages/error_pages:class1031main.txt:7:      There was an unexpected error encountered while processing your request.\n",
      "2015_spring_pages/error_pages:class1031reviews.txt:7:      There was an unexpected error encountered while processing your request.\n",
      "2015_spring_pages/error_pages:class1032main.txt:7:      There was an unexpected error encountered while processing your request.\n",
      "2015_spring_pages/error_pages:class1032reviews.txt:7:      There was an unexpected error encountered while processing your request.\n",
      "2015_spring_pages/error_pages:class1035main.txt:7:      There was an unexpected error encountered while processing your request.\n",
      "2015_spring_pages/error_pages:class1035reviews.txt:7:      There was an unexpected error encountered while processing your request.\n",
      "2015_spring_pages/error_pages:class1036main.txt:7:      There was an unexpected error encountered while processing your request.\n",
      "2015_spring_pages/error_pages:class1036reviews.txt:7:      There was an unexpected error encountered while processing your request.\n",
      "2015_spring_pages/error_pages:class1037main.txt:7:      There was an unexpected error encountered while processing your request.\n",
      "2015_spring_pages/error_pages:class1037reviews.txt:7:      There was an unexpected error encountered while processing your request.\n",
      "2015_spring_pages/error_pages:class1038main.txt:7:      There was an unexpected error encountered while processing your request.\n",
      "2015_spring_pages/error_pages:class1038reviews.txt:7:      There was an unexpected error encountered while processing your request.\n",
      "2015_spring_pages/error_pages:class1040main.txt:7:      There was an unexpected error encountered while processing your request.\n",
      "2015_spring_pages/error_pages:class1040reviews.txt:7:      There was an unexpected error encountered while processing your request.\n",
      "2015_spring_pages/error_pages:class1041main.txt:7:      There was an unexpected error encountered while processing your request.\n",
      "2015_spring_pages/error_pages:class1041reviews.txt:7:      There was an unexpected error encountered while processing your request.\n",
      "2015_spring_pages/error_pages:class1054main.txt:7:      There was an unexpected error encountered while processing your request.\n",
      "2015_spring_pages/error_pages:class1054reviews.txt:7:      There was an unexpected error encountered while processing your request.\n",
      "2015_spring_pages/error_pages:class1055main.txt:7:      There was an unexpected error encountered while processing your request.\n",
      "2015_spring_pages/error_pages:class1055reviews.txt:7:      There was an unexpected error encountered while processing your request.\n",
      "2015_spring_pages/error_pages:class1056main.txt:7:      There was an unexpected error encountered while processing your request.\n",
      "2015_spring_pages/error_pages:class1056reviews.txt:7:      There was an unexpected error encountered while processing your request.\n",
      "2015_spring_pages/error_pages:class1057main.txt:7:      There was an unexpected error encountered while processing your request.\n",
      "2015_spring_pages/error_pages:class1057reviews.txt:7:      There was an unexpected error encountered while processing your request.\n",
      "2015_spring_pages/error_pages:class1058main.txt:7:      There was an unexpected error encountered while processing your request.\n",
      "2015_spring_pages/error_pages:class1058reviews.txt:7:      There was an unexpected error encountered while processing your request.\n",
      "2015_spring_pages/error_pages:class1060main.txt:7:      There was an unexpected error encountered while processing your request.\n",
      "2015_spring_pages/error_pages:class1060reviews.txt:7:      There was an unexpected error encountered while processing your request.\n",
      "2015_spring_pages/error_pages:class1062main.txt:7:      There was an unexpected error encountered while processing your request.\n",
      "2015_spring_pages/error_pages:class1062reviews.txt:7:      There was an unexpected error encountered while processing your request.\n",
      "2015_spring_pages/error_pages:class1063main.txt:7:      There was an unexpected error encountered while processing your request.\n",
      "2015_spring_pages/error_pages:class1063reviews.txt:7:      There was an unexpected error encountered while processing your request.\n",
      "2015_spring_pages/error_pages:class1064main.txt:7:      There was an unexpected error encountered while processing your request.\n",
      "2015_spring_pages/error_pages:class1064reviews.txt:7:      There was an unexpected error encountered while processing your request.\n",
      "2015_spring_pages/error_pages:class1065main.txt:7:      There was an unexpected error encountered while processing your request.\n",
      "2015_spring_pages/error_pages:class1065reviews.txt:7:      There was an unexpected error encountered while processing your request.\n",
      "2015_spring_pages/error_pages:class1068main.txt:7:      There was an unexpected error encountered while processing your request.\n",
      "2015_spring_pages/error_pages:class1068reviews.txt:7:      There was an unexpected error encountered while processing your request.\n",
      "2015_spring_pages/error_pages:class1069main.txt:7:      There was an unexpected error encountered while processing your request.\n",
      "2015_spring_pages/error_pages:class1069reviews.txt:7:      There was an unexpected error encountered while processing your request.\n",
      "2015_spring_pages/error_pages:class1070main.txt:7:      There was an unexpected error encountered while processing your request.\n",
      "2015_spring_pages/error_pages:class1070reviews.txt:7:      There was an unexpected error encountered while processing your request.\n",
      "2015_spring_pages/error_pages:class1073main.txt:7:      There was an unexpected error encountered while processing your request.\n",
      "2015_spring_pages/error_pages:class1073reviews.txt:7:      There was an unexpected error encountered while processing your request.\n",
      "2015_spring_pages/error_pages:class1080main.txt:7:      There was an unexpected error encountered while processing your request.\n",
      "2015_spring_pages/error_pages:class1080reviews.txt:7:      There was an unexpected error encountered while processing your request.\n",
      "2015_spring_pages/error_pages:class1097main.txt:7:      There was an unexpected error encountered while processing your request.\n",
      "2015_spring_pages/error_pages:class1097reviews.txt:7:      There was an unexpected error encountered while processing your request.\n",
      "2015_spring_pages/error_pages:class1137main.txt:7:      There was an unexpected error encountered while processing your request.\n",
      "2015_spring_pages/error_pages:class1137reviews.txt:7:      There was an unexpected error encountered while processing your request.\n",
      "2015_spring_pages/error_pages:class1146main.txt:7:      There was an unexpected error encountered while processing your request.\n",
      "2015_spring_pages/error_pages:class1146reviews.txt:7:      There was an unexpected error encountered while processing your request.\n",
      "2015_spring_pages/error_pages:class1148main.txt:7:      There was an unexpected error encountered while processing your request.\n",
      "2015_spring_pages/error_pages:class1148reviews.txt:7:      There was an unexpected error encountered while processing your request.\n",
      "2015_spring_pages/error_pages:class114main.txt:7:      There was an unexpected error encountered while processing your request.\n",
      "2015_spring_pages/error_pages:class114reviews.txt:7:      There was an unexpected error encountered while processing your request.\n",
      "2015_spring_pages/error_pages:class1154main.txt:7:      There was an unexpected error encountered while processing your request.\n",
      "2015_spring_pages/error_pages:class1154reviews.txt:7:      There was an unexpected error encountered while processing your request.\n",
      "2015_spring_pages/error_pages:class1174main.txt:7:      There was an unexpected error encountered while processing your request.\n",
      "2015_spring_pages/error_pages:class1174reviews.txt:7:      There was an unexpected error encountered while processing your request.\n",
      "2015_spring_pages/error_pages:class1178main.txt:7:      There was an unexpected error encountered while processing your request.\n",
      "2015_spring_pages/error_pages:class1178reviews.txt:7:      There was an unexpected error encountered while processing your request.\n",
      "2015_spring_pages/error_pages:class1226main.txt:7:      There was an unexpected error encountered while processing your request.\n",
      "2015_spring_pages/error_pages:class1226reviews.txt:7:      There was an unexpected error encountered while processing your request.\n",
      "2015_spring_pages/error_pages:class1242main.txt:7:      There was an unexpected error encountered while processing your request.\n",
      "2015_spring_pages/error_pages:class1242reviews.txt:7:      There was an unexpected error encountered while processing your request.\n",
      "2015_spring_pages/error_pages:class1243main.txt:7:      There was an unexpected error encountered while processing your request.\n",
      "2015_spring_pages/error_pages:class1243reviews.txt:7:      There was an unexpected error encountered while processing your request.\n",
      "2015_spring_pages/error_pages:class1246main.txt:7:      There was an unexpected error encountered while processing your request.\n",
      "2015_spring_pages/error_pages:class1246reviews.txt:7:      There was an unexpected error encountered while processing your request.\n",
      "2015_spring_pages/error_pages:class1258main.txt:7:      There was an unexpected error encountered while processing your request.\n",
      "2015_spring_pages/error_pages:class1258reviews.txt:7:      There was an unexpected error encountered while processing your request.\n",
      "2015_spring_pages/error_pages:class150main.txt:7:      There was an unexpected error encountered while processing your request.\n",
      "2015_spring_pages/error_pages:class150reviews.txt:7:      There was an unexpected error encountered while processing your request.\n",
      "2015_spring_pages/error_pages:class15main.txt:7:      There was an unexpected error encountered while processing your request.\n",
      "2015_spring_pages/error_pages:class15reviews.txt:7:      There was an unexpected error encountered while processing your request.\n",
      "2015_spring_pages/error_pages:class16main.txt:7:      There was an unexpected error encountered while processing your request.\n",
      "2015_spring_pages/error_pages:class16reviews.txt:7:      There was an unexpected error encountered while processing your request.\n",
      "2015_spring_pages/error_pages:class17main.txt:7:      There was an unexpected error encountered while processing your request.\n",
      "2015_spring_pages/error_pages:class17reviews.txt:7:      There was an unexpected error encountered while processing your request.\n",
      "2015_spring_pages/error_pages:class188main.txt:7:      There was an unexpected error encountered while processing your request.\n",
      "2015_spring_pages/error_pages:class188reviews.txt:7:      There was an unexpected error encountered while processing your request.\n",
      "2015_spring_pages/error_pages:class18main.txt:7:      There was an unexpected error encountered while processing your request.\n",
      "2015_spring_pages/error_pages:class18reviews.txt:7:      There was an unexpected error encountered while processing your request.\n",
      "2015_spring_pages/error_pages:class193main.txt:7:      There was an unexpected error encountered while processing your request.\n",
      "2015_spring_pages/error_pages:class193reviews.txt:7:      There was an unexpected error encountered while processing your request.\n",
      "2015_spring_pages/error_pages:class19main.txt:7:      There was an unexpected error encountered while processing your request.\n",
      "2015_spring_pages/error_pages:class19reviews.txt:7:      There was an unexpected error encountered while processing your request.\n",
      "2015_spring_pages/error_pages:class20main.txt:7:      There was an unexpected error encountered while processing your request.\n",
      "2015_spring_pages/error_pages:class20reviews.txt:7:      There was an unexpected error encountered while processing your request.\n",
      "2015_spring_pages/error_pages:class21main.txt:7:      There was an unexpected error encountered while processing your request.\n",
      "2015_spring_pages/error_pages:class21reviews.txt:7:      There was an unexpected error encountered while processing your request.\n",
      "2015_spring_pages/error_pages:class22main.txt:7:      There was an unexpected error encountered while processing your request.\n",
      "2015_spring_pages/error_pages:class22reviews.txt:7:      There was an unexpected error encountered while processing your request.\n",
      "2015_spring_pages/error_pages:class23main.txt:7:      There was an unexpected error encountered while processing your request.\n",
      "2015_spring_pages/error_pages:class23reviews.txt:7:      There was an unexpected error encountered while processing your request.\n",
      "2015_spring_pages/error_pages:class242main.txt:7:      There was an unexpected error encountered while processing your request.\n",
      "2015_spring_pages/error_pages:class242reviews.txt:7:      There was an unexpected error encountered while processing your request.\n",
      "2015_spring_pages/error_pages:class243main.txt:7:      There was an unexpected error encountered while processing your request.\n",
      "2015_spring_pages/error_pages:class243reviews.txt:7:      There was an unexpected error encountered while processing your request.\n",
      "2015_spring_pages/error_pages:class24main.txt:7:      There was an unexpected error encountered while processing your request.\n",
      "2015_spring_pages/error_pages:class24reviews.txt:7:      There was an unexpected error encountered while processing your request.\n",
      "2015_spring_pages/error_pages:class25main.txt:7:      There was an unexpected error encountered while processing your request.\n",
      "2015_spring_pages/error_pages:class25reviews.txt:7:      There was an unexpected error encountered while processing your request.\n",
      "2015_spring_pages/error_pages:class260main.txt:7:      There was an unexpected error encountered while processing your request.\n",
      "2015_spring_pages/error_pages:class260reviews.txt:7:      There was an unexpected error encountered while processing your request.\n",
      "2015_spring_pages/error_pages:class26main.txt:7:      There was an unexpected error encountered while processing your request.\n",
      "2015_spring_pages/error_pages:class26reviews.txt:7:      There was an unexpected error encountered while processing your request.\n",
      "2015_spring_pages/error_pages:class27main.txt:7:      There was an unexpected error encountered while processing your request.\n",
      "2015_spring_pages/error_pages:class27reviews.txt:7:      There was an unexpected error encountered while processing your request.\n",
      "2015_spring_pages/error_pages:class28main.txt:7:      There was an unexpected error encountered while processing your request.\n",
      "2015_spring_pages/error_pages:class28reviews.txt:7:      There was an unexpected error encountered while processing your request.\n",
      "2015_spring_pages/error_pages:class290main.txt:7:      There was an unexpected error encountered while processing your request.\n",
      "2015_spring_pages/error_pages:class290reviews.txt:7:      There was an unexpected error encountered while processing your request.\n",
      "2015_spring_pages/error_pages:class29main.txt:7:      There was an unexpected error encountered while processing your request.\n",
      "2015_spring_pages/error_pages:class29reviews.txt:7:      There was an unexpected error encountered while processing your request.\n",
      "2015_spring_pages/error_pages:class305main.txt:7:      There was an unexpected error encountered while processing your request.\n",
      "2015_spring_pages/error_pages:class305reviews.txt:7:      There was an unexpected error encountered while processing your request.\n",
      "2015_spring_pages/error_pages:class30main.txt:7:      There was an unexpected error encountered while processing your request.\n",
      "2015_spring_pages/error_pages:class30reviews.txt:7:      There was an unexpected error encountered while processing your request.\n",
      "2015_spring_pages/error_pages:class31main.txt:7:      There was an unexpected error encountered while processing your request.\n",
      "2015_spring_pages/error_pages:class31reviews.txt:7:      There was an unexpected error encountered while processing your request.\n",
      "2015_spring_pages/error_pages:class323main.txt:7:      There was an unexpected error encountered while processing your request.\n",
      "2015_spring_pages/error_pages:class323reviews.txt:7:      There was an unexpected error encountered while processing your request.\n",
      "2015_spring_pages/error_pages:class324main.txt:7:      There was an unexpected error encountered while processing your request.\n",
      "2015_spring_pages/error_pages:class324reviews.txt:7:      There was an unexpected error encountered while processing your request.\n",
      "2015_spring_pages/error_pages:class326main.txt:7:      There was an unexpected error encountered while processing your request.\n",
      "2015_spring_pages/error_pages:class326reviews.txt:7:      There was an unexpected error encountered while processing your request.\n",
      "2015_spring_pages/error_pages:class327main.txt:7:      There was an unexpected error encountered while processing your request.\n",
      "2015_spring_pages/error_pages:class327reviews.txt:7:      There was an unexpected error encountered while processing your request.\n",
      "2015_spring_pages/error_pages:class32main.txt:7:      There was an unexpected error encountered while processing your request.\n",
      "2015_spring_pages/error_pages:class32reviews.txt:7:      There was an unexpected error encountered while processing your request.\n",
      "2015_spring_pages/error_pages:class355main.txt:7:      There was an unexpected error encountered while processing your request.\n",
      "2015_spring_pages/error_pages:class355reviews.txt:7:      There was an unexpected error encountered while processing your request.\n",
      "2015_spring_pages/error_pages:class356main.txt:7:      There was an unexpected error encountered while processing your request.\n",
      "2015_spring_pages/error_pages:class356reviews.txt:7:      There was an unexpected error encountered while processing your request.\n",
      "2015_spring_pages/error_pages:class358main.txt:7:      There was an unexpected error encountered while processing your request.\n",
      "2015_spring_pages/error_pages:class358reviews.txt:7:      There was an unexpected error encountered while processing your request.\n",
      "2015_spring_pages/error_pages:class360main.txt:7:      There was an unexpected error encountered while processing your request.\n",
      "2015_spring_pages/error_pages:class360reviews.txt:7:      There was an unexpected error encountered while processing your request.\n",
      "2015_spring_pages/error_pages:class361main.txt:7:      There was an unexpected error encountered while processing your request.\n",
      "2015_spring_pages/error_pages:class361reviews.txt:7:      There was an unexpected error encountered while processing your request.\n",
      "2015_spring_pages/error_pages:class362main.txt:7:      There was an unexpected error encountered while processing your request.\n",
      "2015_spring_pages/error_pages:class362reviews.txt:7:      There was an unexpected error encountered while processing your request.\n",
      "2015_spring_pages/error_pages:class363main.txt:7:      There was an unexpected error encountered while processing your request.\n",
      "2015_spring_pages/error_pages:class363reviews.txt:7:      There was an unexpected error encountered while processing your request.\n",
      "2015_spring_pages/error_pages:class364main.txt:7:      There was an unexpected error encountered while processing your request.\n",
      "2015_spring_pages/error_pages:class364reviews.txt:7:      There was an unexpected error encountered while processing your request.\n",
      "2015_spring_pages/error_pages:class366main.txt:7:      There was an unexpected error encountered while processing your request.\n",
      "2015_spring_pages/error_pages:class366reviews.txt:7:      There was an unexpected error encountered while processing your request.\n",
      "2015_spring_pages/error_pages:class369main.txt:7:      There was an unexpected error encountered while processing your request.\n",
      "2015_spring_pages/error_pages:class369reviews.txt:7:      There was an unexpected error encountered while processing your request.\n",
      "2015_spring_pages/error_pages:class370main.txt:7:      There was an unexpected error encountered while processing your request.\n",
      "2015_spring_pages/error_pages:class370reviews.txt:7:      There was an unexpected error encountered while processing your request.\n",
      "2015_spring_pages/error_pages:class40main.txt:7:      There was an unexpected error encountered while processing your request.\n",
      "2015_spring_pages/error_pages:class40reviews.txt:7:      There was an unexpected error encountered while processing your request.\n",
      "2015_spring_pages/error_pages:class439main.txt:7:      There was an unexpected error encountered while processing your request.\n",
      "2015_spring_pages/error_pages:class439reviews.txt:7:      There was an unexpected error encountered while processing your request.\n",
      "2015_spring_pages/error_pages:class48main.txt:7:      There was an unexpected error encountered while processing your request.\n",
      "2015_spring_pages/error_pages:class48reviews.txt:7:      There was an unexpected error encountered while processing your request.\n",
      "2015_spring_pages/error_pages:class504main.txt:7:      There was an unexpected error encountered while processing your request.\n",
      "2015_spring_pages/error_pages:class504reviews.txt:7:      There was an unexpected error encountered while processing your request.\n",
      "2015_spring_pages/error_pages:class521main.txt:7:      There was an unexpected error encountered while processing your request.\n",
      "2015_spring_pages/error_pages:class521reviews.txt:7:      There was an unexpected error encountered while processing your request.\n",
      "2015_spring_pages/error_pages:class530main.txt:7:      There was an unexpected error encountered while processing your request.\n",
      "2015_spring_pages/error_pages:class530reviews.txt:7:      There was an unexpected error encountered while processing your request.\n",
      "2015_spring_pages/error_pages:class532main.txt:7:      There was an unexpected error encountered while processing your request.\n",
      "2015_spring_pages/error_pages:class532reviews.txt:7:      There was an unexpected error encountered while processing your request.\n",
      "2015_spring_pages/error_pages:class569main.txt:7:      There was an unexpected error encountered while processing your request.\n",
      "2015_spring_pages/error_pages:class569reviews.txt:7:      There was an unexpected error encountered while processing your request.\n",
      "2015_spring_pages/error_pages:class570main.txt:7:      There was an unexpected error encountered while processing your request.\n",
      "2015_spring_pages/error_pages:class570reviews.txt:7:      There was an unexpected error encountered while processing your request.\n",
      "2015_spring_pages/error_pages:class666main.txt:7:      There was an unexpected error encountered while processing your request.\n",
      "2015_spring_pages/error_pages:class666reviews.txt:7:      There was an unexpected error encountered while processing your request.\n",
      "2015_spring_pages/error_pages:class687main.txt:7:      There was an unexpected error encountered while processing your request.\n",
      "2015_spring_pages/error_pages:class687reviews.txt:7:      There was an unexpected error encountered while processing your request.\n",
      "2015_spring_pages/error_pages:class709main.txt:7:      There was an unexpected error encountered while processing your request.\n",
      "2015_spring_pages/error_pages:class709reviews.txt:7:      There was an unexpected error encountered while processing your request.\n",
      "2015_spring_pages/error_pages:class70main.txt:7:      There was an unexpected error encountered while processing your request.\n",
      "2015_spring_pages/error_pages:class70reviews.txt:7:      There was an unexpected error encountered while processing your request.\n",
      "2015_spring_pages/error_pages:class722main.txt:7:      There was an unexpected error encountered while processing your request.\n",
      "2015_spring_pages/error_pages:class722reviews.txt:7:      There was an unexpected error encountered while processing your request.\n",
      "2015_spring_pages/error_pages:class735main.txt:7:      There was an unexpected error encountered while processing your request.\n",
      "2015_spring_pages/error_pages:class735reviews.txt:7:      There was an unexpected error encountered while processing your request.\n",
      "2015_spring_pages/error_pages:class737main.txt:7:      There was an unexpected error encountered while processing your request.\n",
      "2015_spring_pages/error_pages:class737reviews.txt:7:      There was an unexpected error encountered while processing your request.\n",
      "2015_spring_pages/error_pages:class738main.txt:7:      There was an unexpected error encountered while processing your request.\n",
      "2015_spring_pages/error_pages:class738reviews.txt:7:      There was an unexpected error encountered while processing your request.\n",
      "2015_spring_pages/error_pages:class740main.txt:7:      There was an unexpected error encountered while processing your request.\n",
      "2015_spring_pages/error_pages:class740reviews.txt:7:      There was an unexpected error encountered while processing your request.\n",
      "2015_spring_pages/error_pages:class741main.txt:7:      There was an unexpected error encountered while processing your request.\n",
      "2015_spring_pages/error_pages:class741reviews.txt:7:      There was an unexpected error encountered while processing your request.\n",
      "2015_spring_pages/error_pages:class756main.txt:7:      There was an unexpected error encountered while processing your request.\n",
      "2015_spring_pages/error_pages:class756reviews.txt:7:      There was an unexpected error encountered while processing your request.\n",
      "2015_spring_pages/error_pages:class764main.txt:7:      There was an unexpected error encountered while processing your request.\n",
      "2015_spring_pages/error_pages:class764reviews.txt:7:      There was an unexpected error encountered while processing your request.\n",
      "2015_spring_pages/error_pages:class775main.txt:7:      There was an unexpected error encountered while processing your request.\n",
      "2015_spring_pages/error_pages:class775reviews.txt:7:      There was an unexpected error encountered while processing your request.\n",
      "2015_spring_pages/error_pages:class778main.txt:7:      There was an unexpected error encountered while processing your request.\n",
      "2015_spring_pages/error_pages:class778reviews.txt:7:      There was an unexpected error encountered while processing your request.\n",
      "2015_spring_pages/error_pages:class793main.txt:7:      There was an unexpected error encountered while processing your request.\n",
      "2015_spring_pages/error_pages:class793reviews.txt:7:      There was an unexpected error encountered while processing your request.\n",
      "2015_spring_pages/error_pages:class81main.txt:7:      There was an unexpected error encountered while processing your request.\n",
      "2015_spring_pages/error_pages:class81reviews.txt:7:      There was an unexpected error encountered while processing your request.\n",
      "2015_spring_pages/error_pages:class835main.txt:7:      There was an unexpected error encountered while processing your request.\n",
      "2015_spring_pages/error_pages:class835reviews.txt:7:      There was an unexpected error encountered while processing your request.\n",
      "2015_spring_pages/error_pages:class839main.txt:7:      There was an unexpected error encountered while processing your request.\n",
      "2015_spring_pages/error_pages:class839reviews.txt:7:      There was an unexpected error encountered while processing your request.\n",
      "2015_spring_pages/error_pages:class84main.txt:7:      There was an unexpected error encountered while processing your request.\n",
      "2015_spring_pages/error_pages:class84reviews.txt:7:      There was an unexpected error encountered while processing your request.\n",
      "2015_spring_pages/error_pages:class851main.txt:7:      There was an unexpected error encountered while processing your request.\n",
      "2015_spring_pages/error_pages:class851reviews.txt:7:      There was an unexpected error encountered while processing your request.\n",
      "2015_spring_pages/error_pages:class885main.txt:7:      There was an unexpected error encountered while processing your request.\n",
      "2015_spring_pages/error_pages:class885reviews.txt:7:      There was an unexpected error encountered while processing your request.\n",
      "2015_spring_pages/error_pages:class886main.txt:7:      There was an unexpected error encountered while processing your request.\n",
      "2015_spring_pages/error_pages:class886reviews.txt:7:      There was an unexpected error encountered while processing your request.\n",
      "2015_spring_pages/error_pages:class899main.txt:7:      There was an unexpected error encountered while processing your request.\n",
      "2015_spring_pages/error_pages:class899reviews.txt:7:      There was an unexpected error encountered while processing your request.\n",
      "2015_spring_pages/error_pages:class920main.txt:7:      There was an unexpected error encountered while processing your request.\n",
      "2015_spring_pages/error_pages:class920reviews.txt:7:      There was an unexpected error encountered while processing your request.\n",
      "2015_spring_pages/error_pages:class923main.txt:7:      There was an unexpected error encountered while processing your request.\n",
      "2015_spring_pages/error_pages:class923reviews.txt:7:      There was an unexpected error encountered while processing your request.\n",
      "2015_spring_pages/error_pages:class924main.txt:7:      There was an unexpected error encountered while processing your request.\n",
      "2015_spring_pages/error_pages:class924reviews.txt:7:      There was an unexpected error encountered while processing your request.\n",
      "2015_spring_pages/error_pages:class927main.txt:7:      There was an unexpected error encountered while processing your request.\n",
      "2015_spring_pages/error_pages:class927reviews.txt:7:      There was an unexpected error encountered while processing your request.\n",
      "2015_spring_pages/error_pages:class931main.txt:7:      There was an unexpected error encountered while processing your request.\n",
      "2015_spring_pages/error_pages:class931reviews.txt:7:      There was an unexpected error encountered while processing your request.\n",
      "2015_spring_pages/error_pages:class933main.txt:7:      There was an unexpected error encountered while processing your request.\n",
      "2015_spring_pages/error_pages:class933reviews.txt:7:      There was an unexpected error encountered while processing your request.\n",
      "2015_spring_pages/error_pages:class934main.txt:7:      There was an unexpected error encountered while processing your request.\n",
      "2015_spring_pages/error_pages:class934reviews.txt:7:      There was an unexpected error encountered while processing your request.\n",
      "2015_spring_pages/error_pages:class935main.txt:7:      There was an unexpected error encountered while processing your request.\n",
      "2015_spring_pages/error_pages:class935reviews.txt:7:      There was an unexpected error encountered while processing your request.\n",
      "2015_spring_pages/error_pages:class938main.txt:7:      There was an unexpected error encountered while processing your request.\n",
      "2015_spring_pages/error_pages:class938reviews.txt:7:      There was an unexpected error encountered while processing your request.\n",
      "2015_spring_pages/error_pages:class941main.txt:7:      There was an unexpected error encountered while processing your request.\n",
      "2015_spring_pages/error_pages:class941reviews.txt:7:      There was an unexpected error encountered while processing your request.\n",
      "2015_spring_pages/error_pages:class943main.txt:7:      There was an unexpected error encountered while processing your request.\n",
      "2015_spring_pages/error_pages:class943reviews.txt:7:      There was an unexpected error encountered while processing your request.\n",
      "2015_spring_pages/error_pages:class964main.txt:7:      There was an unexpected error encountered while processing your request.\n",
      "2015_spring_pages/error_pages:class964reviews.txt:7:      There was an unexpected error encountered while processing your request.\n",
      "2015_spring_pages/error_pages:class969main.txt:7:      There was an unexpected error encountered while processing your request.\n",
      "2015_spring_pages/error_pages:class969reviews.txt:7:      There was an unexpected error encountered while processing your request.\n",
      "2015_spring_pages/error_pages:class970main.txt:7:      There was an unexpected error encountered while processing your request.\n",
      "2015_spring_pages/error_pages:class970reviews.txt:7:      There was an unexpected error encountered while processing your request.\n",
      "2015_spring_pages/error_pages:class973main.txt:7:      There was an unexpected error encountered while processing your request.\n",
      "2015_spring_pages/error_pages:class973reviews.txt:7:      There was an unexpected error encountered while processing your request.\n",
      "2015_spring_pages/error_pages:class975main.txt:7:      There was an unexpected error encountered while processing your request.\n",
      "2015_spring_pages/error_pages:class975reviews.txt:7:      There was an unexpected error encountered while processing your request.\n",
      "2015_spring_pages/error_pages:class976main.txt:7:      There was an unexpected error encountered while processing your request.\n",
      "2015_spring_pages/error_pages:class976reviews.txt:7:      There was an unexpected error encountered while processing your request.\n",
      "2015_spring_pages/error_pages:class979main.txt:7:      There was an unexpected error encountered while processing your request.\n",
      "2015_spring_pages/error_pages:class979reviews.txt:7:      There was an unexpected error encountered while processing your request.\n",
      "2015_spring_pages/error_pages:class980main.txt:7:      There was an unexpected error encountered while processing your request.\n",
      "2015_spring_pages/error_pages:class980reviews.txt:7:      There was an unexpected error encountered while processing your request.\n",
      "2015_spring_pages/error_pages:class981main.txt:7:      There was an unexpected error encountered while processing your request.\n",
      "2015_spring_pages/error_pages:class981reviews.txt:7:      There was an unexpected error encountered while processing your request.\n",
      "2015_spring_pages/error_pages:class982main.txt:7:      There was an unexpected error encountered while processing your request.\n",
      "2015_spring_pages/error_pages:class982reviews.txt:7:      There was an unexpected error encountered while processing your request.\n",
      "2015_spring_pages/error_pages:class983main.txt:7:      There was an unexpected error encountered while processing your request.\n",
      "2015_spring_pages/error_pages:class983reviews.txt:7:      There was an unexpected error encountered while processing your request.\n",
      "2015_spring_pages/error_pages:class984main.txt:7:      There was an unexpected error encountered while processing your request.\n",
      "2015_spring_pages/error_pages:class984reviews.txt:7:      There was an unexpected error encountered while processing your request.\n",
      "2015_spring_pages/error_pages:class985main.txt:7:      There was an unexpected error encountered while processing your request.\n",
      "2015_spring_pages/error_pages:class985reviews.txt:7:      There was an unexpected error encountered while processing your request.\n",
      "2015_spring_pages/error_pages:class987main.txt:7:      There was an unexpected error encountered while processing your request.\n",
      "2015_spring_pages/error_pages:class987reviews.txt:7:      There was an unexpected error encountered while processing your request.\n",
      "2015_spring_pages/error_pages:class988main.txt:7:      There was an unexpected error encountered while processing your request.\n",
      "2015_spring_pages/error_pages:class988reviews.txt:7:      There was an unexpected error encountered while processing your request.\n",
      "2015_spring_pages/error_pages:class990main.txt:7:      There was an unexpected error encountered while processing your request.\n",
      "2015_spring_pages/error_pages:class990reviews.txt:7:      There was an unexpected error encountered while processing your request.\n",
      "2015_spring_pages/error_pages:class992main.txt:7:      There was an unexpected error encountered while processing your request.\n",
      "2015_spring_pages/error_pages:class992reviews.txt:7:      There was an unexpected error encountered while processing your request.\n",
      "2015_spring_pages/error_pages:class993main.txt:7:      There was an unexpected error encountered while processing your request.\n",
      "2015_spring_pages/error_pages:class993reviews.txt:7:      There was an unexpected error encountered while processing your request.\n"
     ]
    }
   ],
   "source": [
    "%%bash\n",
    "grep \"error encountered\" 2015_spring_pages/*"
   ]
  },
  {
   "cell_type": "markdown",
   "metadata": {},
   "source": [
    "From the above search we see that there are 14 classes where an error occurred getting results. However, the error occurred for both the summary statistisc page and the student reviews page, which suggests that the error did not have to do with improper scraping, but somethin on Harvard's end"
   ]
  },
  {
   "cell_type": "markdown",
   "metadata": {},
   "source": [
    "### Actual parsing script"
   ]
  },
  {
   "cell_type": "code",
   "execution_count": 107,
   "metadata": {
    "collapsed": true
   },
   "outputs": [],
   "source": [
    "def make_soup(file_path):\n",
    "    with open(file_path, \"rb\") as f:\n",
    "        html = f.read()\n",
    "        soup = BeautifulSoup(html, \"lxml\")\n",
    "        return soup\n",
    "    \n",
    "def broken_page(soup):\n",
    "    \"\"\"Returns True if the page was broken/did not have grades\"\"\"\n",
    "    ps = soup.find_all(\"p\")\n",
    "    ps = map(lambda x: x.text, ps)\n",
    "    unexpected_error = True in map(lambda x: \"unexpected error\" in x, ps)\n",
    "    \n",
    "    no_grades = soup.find(\"div\", id=\"nogrades\") != None    \n",
    "    return no_grades or unexpected_error\n",
    "    "
   ]
  },
  {
   "cell_type": "code",
   "execution_count": 109,
   "metadata": {
    "collapsed": false
   },
   "outputs": [],
   "source": [
    "with open(\"data/2015_spring_summaries.csv\", \"wb\") as csvout:\n",
    "    writer = csv.writer(csvout)\n",
    "    writer.writerow([\"course\",\n",
    "                     \"semester\",\n",
    "                     \"enrolled\",\n",
    "                     \"reviews\",\n",
    "                     \"o1\",\n",
    "                     \"o2\",\n",
    "                     \"o3\",\n",
    "                     \"o4\",\n",
    "                     \"o5\",\n",
    "                     \"overall_reviews\",\n",
    "                     \"overall_mean\",\n",
    "                     \"w1\",\n",
    "                     \"w2\",\n",
    "                     \"w3\",\n",
    "                     \"w4\",\n",
    "                     \"w5\",\n",
    "                     \"workload_reviews\",\n",
    "                     \"workload_mean\",\n",
    "                     \"r1\",\n",
    "                     \"r2\",\n",
    "                     \"r3\",\n",
    "                     \"r4\",\n",
    "                     \"r5\",\n",
    "                     \"recommend_reviews\",\n",
    "                     \"recommend_mean\"])\n",
    "    \n",
    "    target_dir = \"2015_spring_pages/\"\n",
    "    target_semester = \"spring 2015\"\n",
    "    \n",
    "    # for class file in directory\n",
    "    for fname in os.listdir(target_dir):\n",
    "        if \"main\" in fname:\n",
    "            fpath = target_dir + fname\n",
    "            soup = make_soup(fpath)\n",
    "            \n",
    "            # search to see if error page\n",
    "            if not broken_page(soup):\n",
    "                # parse info from page\n",
    "                try:\n",
    "                    course = soup.find(\"h1\").text.encode(\"ascii\")\n",
    "                except:\n",
    "                    pdb.set_trace()\n",
    "                    \n",
    "                semester = target_semester\n",
    "                \n",
    "                t = soup.find(\"div\", attrs={\"id\": \"summaryStats\"}).text.split(\"\\n\")\n",
    "                t = map(lambda x: x.strip(\" \"), t)\n",
    "                enrolled = t[2]\n",
    "                reviews  = t[4]\n",
    "                \n",
    "                # overall rating scores\n",
    "                o = soup.find(\"td\", text=\"Course Overall\")\n",
    "                o_dist = o.next_sibling.find(\"img\")[\"alt\"].split(\" \")[1:6]\n",
    "                overall_reviews = int(o.next_sibling.next_sibling.text)\n",
    "                overall_mean = float(o.next_sibling.next_sibling.next_sibling.text)\n",
    "                \n",
    "                # workload scores\n",
    "                try:\n",
    "                    w = soup.find(\"td\", text=\"Workload (hours per week)\")\n",
    "                    w_dist = w.next_sibling.find(\"img\")[\"alt\"].split(\" \")[1:6]\n",
    "                    workload_reviews = int(w.next_sibling.next_sibling.text)\n",
    "                    workload_mean = float(w.next_sibling.next_sibling.next_sibling.text)\n",
    "                except:\n",
    "                    w_dist = [0, 0, 0, 0, 0]\n",
    "                    workload_reviews = 0\n",
    "                    workload_mean = None\n",
    "                \n",
    "                # recommendation scores\n",
    "                r = soup.find(\"td\", text=\"Would You Recommend\")\n",
    "                r_dist = r.next_sibling.find(\"img\")[\"alt\"].split(\" \")[1:6]\n",
    "                recommend_reviews = int(r.next_sibling.next_sibling.text)\n",
    "                recommend_mean = float(r.next_sibling.next_sibling.next_sibling.text)\n",
    "                \n",
    "                writer.writerow([course,\n",
    "                                 semester,\n",
    "                                 enrolled,\n",
    "                                 reviews,\n",
    "                                 o_dist[0],\n",
    "                                 o_dist[1],\n",
    "                                 o_dist[2],\n",
    "                                 o_dist[3],\n",
    "                                 o_dist[4],\n",
    "                                 overall_reviews,\n",
    "                                 overall_mean,\n",
    "                                 w_dist[0],\n",
    "                                 w_dist[1],\n",
    "                                 w_dist[2],\n",
    "                                 w_dist[3],\n",
    "                                 w_dist[4],\n",
    "                                 workload_reviews,\n",
    "                                 workload_mean,\n",
    "                                 r_dist[0],\n",
    "                                 r_dist[1],\n",
    "                                 r_dist[2],\n",
    "                                 r_dist[3],\n",
    "                                 r_dist[4],\n",
    "                                 recommend_reviews,\n",
    "                                 recommend_mean])\n"
   ]
  }
 ],
 "metadata": {
  "kernelspec": {
   "display_name": "Python 2",
   "language": "python",
   "name": "python2"
  },
  "language_info": {
   "codemirror_mode": {
    "name": "ipython",
    "version": 2
   },
   "file_extension": ".py",
   "mimetype": "text/x-python",
   "name": "python",
   "nbconvert_exporter": "python",
   "pygments_lexer": "ipython2",
   "version": "2.7.11"
  }
 },
 "nbformat": 4,
 "nbformat_minor": 0
}
