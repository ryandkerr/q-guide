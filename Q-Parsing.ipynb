{
 "cells": [
  {
   "cell_type": "code",
   "execution_count": 1,
   "metadata": {
    "collapsed": true
   },
   "outputs": [],
   "source": [
    "from bs4 import BeautifulSoup\n",
    "import csv\n",
    "import pdb"
   ]
  },
  {
   "cell_type": "code",
   "execution_count": 4,
   "metadata": {
    "collapsed": false
   },
   "outputs": [
    {
     "name": "stdout",
     "output_type": "stream",
     "text": [
      "<!DOCTYPE html PUBLIC \"-//W3C//DTD XHTML 1.0 Transitional//EN\" \"http://www.w3.org/TR/xhtml1/DTD/xhtml1-transitional.dtd\">\n",
      "<html xmlns=\"http://www.w3.org/1999/xhtml\"><head><meta content=\"text/html;charset=utf-8\" http-equiv=\"Content-type\"/><title>Course Evaluations: Course Page</title><link href=\"../header-image-for-public.css\" rel=\"stylesheet\" type=\"text/css\"/><link href=\"../tabs-site.css\" rel=\"stylesheet\" type=\"text/css\"/><link href=\"../jquery-ui-1.7.2.custom.css\" rel=\"stylesheet\" type=\"text/css\"/><link href=\"../print-eval.css\" media=\"print\" rel=\"stylesheet\" type=\"text/css\"/><script src=\"../jquery-1.5.2.min.js\" type=\"text/javascript\"></script><script src=\"../benchmark-desc.js\" type=\"text/javascript\"></script></head><body class=\"fas\"><a name=\"top\"></a><div id=\"accessLink\"><a href=\"print_reports.html?course_id=41691\" title=\"skip to printed reports\">\n",
      "            skip to printed reports\n",
      "          </a></div><div id=\"header\"><div id=\"logo\"><div id=\"login\">Welcome: <span>Ryan Daniel Kerr</span><br/><a href=\"../logout\">logout</a></div><div id=\"title\"></div></div></div><div class=\"helpLink\"><a href=\"../fas/list?yearterm=2014_2\">back to course list</a><a href=\"help-public.html\" title=\"instructions for viewing and printing reports\">help</a></div><div id=\"page-content\"><h1>AFRAMER 10: Introduction to African American Studies</h1><div id=\"summaryStats\">\n",
      "      Enrollment: \n",
      "      152\n",
      "      Evaluations:\n",
      "      128\n",
      "      Response Rate: \n",
      "      84.21%</div><div id=\"tabHeader\"><form action=\"course_summary.html\" method=\"get\"><div><select name=\"course_id\"><option selected=\"selected\" value=\"41691\">Spring Term 2015</option><option value=\"37087\">Spring Term 2014</option><option value=\"32901\">Spring Term 2013</option><option value=\"28161\">Fall Term 2011</option><option value=\"26192\">Spring Term 2011</option><option value=\"22364\">Spring Term 2010</option><option value=\"17965\">Fall Term 2008</option><option value=\"14923\">Fall Term 2007</option><option value=\"12828\">Spring Term 2007</option></select><input type=\"submit\" value=\"Change Term\"/></div></form><div id=\"buttons\"><span class=\"print\"><a href=\"\" onclick=\"window.print();return false;\"><span>Print Page</span></a></span></div><ul id=\"tabNav\"><li class=\"here\"><a href=\"course_summary.html?course_id=41691\">\n",
      "          Course Eval.<br/>\n",
      "          Summary\n",
      "        </a></li><li><a href=\"inst-tf_summary.html?course_id=41691\">\n",
      "              Instructor<br/>Eval. Summary\n",
      "            </a></li><li><a href=\"view_comments.html?course_id=41691\">\n",
      "            View Comments<br/>By Question\n",
      "          </a></li></ul>\n",
      "<div id=\"subHeader\"></div></div><div><div id=\"reportContent\"><table cellspacing=\"0\" class=\"graphReport\"><tr><th class=\"tableCol1\"></th><th class=\"tableCol2\"><img alt=\"\" src=\"../images/scaleQuality.png\"/></th><th class=\"tableCol3\"><img alt=\"Number of respondants\" src=\"../images/number_respondants.png\"/></th><th class=\"tableCol4\"><img alt=\"Mean score\" src=\"../images/mean_score.png\"/></th><th class=\"tableCol5\"></th></tr><tr><td style=\"padding-right:35px;\"><strong>Course Overall</strong></td><td><div><img alt=\"Segments 3 2 25 49 47 totalling a 100%\" src=\"../histobar-3-2-25-49-47.png\"/></div><div><div class=\"cap\"></div></div><div class=\"mark\"></div></td><td>126</td><td>4.1</td><td class=\"button\"><a href=\"details.html?course_id=41691&amp;sect_num=&amp;qid=503&amp;current_tab=1&amp;benchmark_type=no&amp;benchmark_range=three_years\" rel=\"external\"><img alt=\"to details page\" src=\"../images/details.gif\"/></a></td></tr><tr><td style=\"padding-right:35px;\"><strong>Materials</strong></td><td><div><img alt=\"Segments 3 1 21 47 52 totalling a 100%\" src=\"../histobar-3-1-21-47-52.png\"/></div><div><div class=\"cap\"></div></div><div class=\"mark\"></div></td><td>124</td><td>4.2</td><td class=\"button\"><a href=\"details.html?course_id=41691&amp;sect_num=&amp;qid=1473&amp;current_tab=1&amp;benchmark_type=no&amp;benchmark_range=three_years\" rel=\"external\"><img alt=\"to details page\" src=\"../images/details.gif\"/></a></td></tr><tr><td style=\"padding-right:35px;\"><strong>Assignments</strong></td><td><div><img alt=\"Segments 3 12 29 51 30 totalling a 100%\" src=\"../histobar-3-12-29-51-30.png\"/></div><div><div class=\"cap\"></div></div><div class=\"mark\"></div></td><td>125</td><td>3.7</td><td class=\"button\"><a href=\"details.html?course_id=41691&amp;sect_num=&amp;qid=1475&amp;current_tab=1&amp;benchmark_type=no&amp;benchmark_range=three_years\" rel=\"external\"><img alt=\"to details page\" src=\"../images/details.gif\"/></a></td></tr><tr><td style=\"padding-right:35px;\"><strong>Feedback</strong></td><td><div><img alt=\"Segments 8 13 31 41 30 totalling a 100%\" src=\"../histobar-8-13-31-41-30.png\"/></div><div><div class=\"cap\"></div></div><div class=\"mark\"></div></td><td>123</td><td>3.6</td><td class=\"button\"><a href=\"details.html?course_id=41691&amp;sect_num=&amp;qid=511&amp;current_tab=1&amp;benchmark_type=no&amp;benchmark_range=three_years\" rel=\"external\"><img alt=\"to details page\" src=\"../images/details.gif\"/></a></td></tr><tr><td style=\"padding-right:35px;\"><strong>Section</strong></td><td><div><img alt=\"Segments 5 18 14 48 40 totalling a 100%\" src=\"../histobar-5-18-14-48-40.png\"/></div><div><div class=\"cap\"></div></div><div class=\"mark\"></div></td><td>125</td><td>3.8</td><td class=\"button\"><a href=\"details.html?course_id=41691&amp;sect_num=&amp;qid=513&amp;current_tab=1&amp;benchmark_type=no&amp;benchmark_range=three_years\" rel=\"external\"><img alt=\"to details page\" src=\"../images/details.gif\"/></a></td></tr><tr><td colspan=\"4\"></td></tr></table><table cellspacing=\"0\" class=\"graphReport\"><tr><th class=\"tableCol1\"></th><th class=\"tableCol2\"><img alt=\"\" src=\"../images/scaleHours.png\"/></th><th class=\"tableCol3\"><img alt=\"Number of respondants\" src=\"../images/number_respondants.png\"/></th><th class=\"tableCol4\"><img alt=\"Mean score\" src=\"../images/mean_score.png\"/></th><th class=\"tableCol5\"></th></tr><tr><td style=\"padding-right:35px;\"><strong>Workload (hours per week)</strong></td><td><div><img alt=\"Segments 33 69 7 0 0 totalling a 100%\" src=\"../histobar-33-69-7-0-0.png\"/></div><div><div class=\"cap\"></div></div><div class=\"mark\"></div></td><td>109</td><td>3.7</td><td class=\"button\"><a href=\"details.html?course_id=41691&amp;sect_num=&amp;qid=16239&amp;current_tab=1&amp;benchmark_type=no&amp;benchmark_range=three_years\" rel=\"external\"><img alt=\"to details page\" src=\"../images/details.gif\"/></a></td></tr><tr><td colspan=\"4\"></td></tr></table><table cellspacing=\"0\" class=\"graphReport\"><tr><th class=\"tableCol1\"></th><th class=\"tableCol2\"><img alt=\"\" src=\"../images/scaleRecommendation.png\"/></th><th class=\"tableCol3\"><img alt=\"Number of respondants\" src=\"../images/number_respondants.png\"/></th><th class=\"tableCol4\"><img alt=\"Mean score\" src=\"../images/mean_score.png\"/></th><th class=\"tableCol5\"></th></tr><tr><td style=\"padding-right:35px;\"><strong>Would You Recommend</strong></td><td><div><img alt=\"Segments 2 2 19 38 60 totalling a 100%\" src=\"../histobar-2-2-19-38-60.png\"/></div><div><div class=\"cap\"></div></div><div class=\"mark\"></div></td><td>121</td><td>4.3</td><td class=\"button\"><a href=\"details.html?course_id=41691&amp;sect_num=&amp;qid=1486&amp;current_tab=1&amp;benchmark_type=no&amp;benchmark_range=three_years\" rel=\"external\"><img alt=\"to details page\" src=\"../images/details.gif\"/></a></td></tr><tr><td colspan=\"4\"></td></tr></table><table cellspacing=\"0\" class=\"graphReport\"><tr><td colspan=\"2\"><strong>What was/were your reason(s) for enrolling in this course?</strong></td></tr><tr><td style=\"padding-right:1em;font-size: .75em;text-align:right;border-right:3px solid #999;\" width=\"200px\">Elective</td><td style=\"padding-left:0;\"><img alt=\"Choice question Elective is 41%\" src=\"../barPercentage-53-128-1.png\"/></td></tr><tr><td style=\"padding-right:1em;font-size: .75em;text-align:right;border-right:3px solid #999;\" width=\"200px\">Concentration or Department Requirement</td><td style=\"padding-left:0;\"><img alt=\"Choice question Concentration or Department Requirement is 12%\" src=\"../barPercentage-15-128-2.png\"/></td></tr><tr><td style=\"padding-right:1em;font-size: .75em;text-align:right;border-right:3px solid #999;\" width=\"200px\">Secondary Field or Language Citation Requirement</td><td style=\"padding-left:0;\"><img alt=\"Choice question Secondary Field or Language Citation Requirement is 16%\" src=\"../barPercentage-21-128-3.png\"/></td></tr><tr><td style=\"padding-right:1em;font-size: .75em;text-align:right;border-right:3px solid #999;\" width=\"200px\">Undergraduate Core or General Education Requirement</td><td style=\"padding-left:0;\"><img alt=\"Choice question Undergraduate Core or General Education Requirement is 69%\" src=\"../barPercentage-88-128-4.png\"/></td></tr><tr><td style=\"padding-right:1em;font-size: .75em;text-align:right;border-right:3px solid #999;\" width=\"200px\">Expository Writing Requirement</td><td style=\"padding-left:0;\"><img alt=\"Choice question Expository Writing Requirement is 0%\" src=\"../barPercentage-0-128-5.png\"/></td></tr><tr><td style=\"padding-right:1em;font-size: .75em;text-align:right;border-right:3px solid #999;\" width=\"200px\">Foreign Language Requirement</td><td style=\"padding-left:0;\"><img alt=\"Choice question Foreign Language Requirement is 0%\" src=\"../barPercentage-0-128-6.png\"/></td></tr><tr><td style=\"padding-right:1em;font-size: .75em;text-align:right;border-right:3px solid #999;\" width=\"200px\">Pre-Med Requirement</td><td style=\"padding-left:0;\"><img alt=\"Choice question Pre-Med Requirement is 0%\" src=\"../barPercentage-0-128-7.png\"/></td></tr></table></div></div></div></body></html>\n"
     ]
    }
   ],
   "source": [
    "with open(\"2015_spring_pages/class0main.txt\") as f:\n",
    "    print BeautifulSoup(f.read(), \"lxml\")"
   ]
  },
  {
   "cell_type": "code",
   "execution_count": null,
   "metadata": {
    "collapsed": true
   },
   "outputs": [],
   "source": []
  }
 ],
 "metadata": {
  "kernelspec": {
   "display_name": "Python 2",
   "language": "python",
   "name": "python2"
  },
  "language_info": {
   "codemirror_mode": {
    "name": "ipython",
    "version": 2
   },
   "file_extension": ".py",
   "mimetype": "text/x-python",
   "name": "python",
   "nbconvert_exporter": "python",
   "pygments_lexer": "ipython2",
   "version": "2.7.11"
  }
 },
 "nbformat": 4,
 "nbformat_minor": 0
}
